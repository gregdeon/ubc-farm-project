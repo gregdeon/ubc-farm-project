{
 "cells": [
  {
   "cell_type": "markdown",
   "metadata": {},
   "source": [
    "This notebook is a rough guide showing how I downloaded and plotted humidity data from MERRA-2."
   ]
  },
  {
   "cell_type": "markdown",
   "metadata": {},
   "source": [
    "# Downloading the data"
   ]
  },
  {
   "cell_type": "markdown",
   "metadata": {},
   "source": [
    "To get the dataset, I started at https://disc.gsfc.nasa.gov/datasets?keywords=%22MERRA-2%22&page=1&source=Models%2FAnalyses%20MERRA-2. I filtered for datasets with Atmospheric Water Vapor and 1- or 3-hour measurements. \n",
    "\n",
    "I didn't know how to tell the difference between all of these datasets, so I picked this one:\n",
    "```\n",
    "M2I3NVASM: MERRA-2 inst3_3d_asm_Nv: 3d,3-Hourly,Instantaneous,Model-Level,Assimilation,Assimilated Meteorological Fields\n",
    "```\n",
    "This source gives pretty large data files because the data is 3D at each time. I think a 2D source would be easier to work with, but I don't know which ones have which variables.\n",
    "\n",
    "Then, I got to choose a subset of the data. This includes:\n",
    "- Dates (I picked all of 2019)\n",
    "- Region (I drew a box roughly around India)\n",
    "- Variables (I used the default, which downloads all of them)\n",
    "- Times of day (I picked \"daily mean\")\n",
    "- Grid (I used the default)\n",
    "- File format (I picked NetCDF)\n",
    "\n",
    "The site gave me a list of download links -- one per day. I had to set up an Earthdata account to download any of them. They also gave me instructions on how to use `wget` or `curl` to automatically download all of the files; I just downloaded the first one."
   ]
  },
  {
   "cell_type": "markdown",
   "metadata": {},
   "source": [
    "# Plotting the data"
   ]
  },
  {
   "cell_type": "markdown",
   "metadata": {},
   "source": [
    "I found these links helpful for learning how to work with NetCDF files:\n",
    "- python-netcdf4 docmentation: https://unidata.github.io/netcdf4-python/netCDF4/index.html\n",
    "- Example of loading an existing dataset: http://schubert.atmos.colostate.edu/~cslocum/netcdf_example.html\n"
   ]
  },
  {
   "cell_type": "code",
   "execution_count": 1,
   "metadata": {},
   "outputs": [],
   "source": [
    "# Library for loading netCDF data files\n",
    "import netCDF4\n",
    "\n",
    "# Plotting library\n",
    "import matplotlib.pyplot as plt"
   ]
  },
  {
   "cell_type": "code",
   "execution_count": 2,
   "metadata": {},
   "outputs": [],
   "source": [
    "# Extra settings to make my plots look pretty\n",
    "import matplotlib\n",
    "matplotlib.rcParams['figure.dpi'] = 180\n",
    "matplotlib.rcParams['font.size'] = 8"
   ]
  },
  {
   "cell_type": "code",
   "execution_count": 3,
   "metadata": {},
   "outputs": [],
   "source": [
    "# Open the file (netCDF's equivalent of `open`)\n",
    "# TODO: ideally, this would look like\n",
    "# > with netCDF4.Data(...) as nc_file:\n",
    "# to make sure the file gets closed after loading the data\n",
    "nc_file = netCDF4.Dataset('data/MERRA2_400.inst3_3d_asm_Nv.20190101.SUB.nc', 'r')"
   ]
  },
  {
   "cell_type": "code",
   "execution_count": 4,
   "metadata": {},
   "outputs": [
    {
     "data": {
      "text/plain": [
       "['CDI',\n",
       " 'history',\n",
       " 'Conventions',\n",
       " 'History',\n",
       " 'Comment',\n",
       " 'Filename',\n",
       " 'Institution',\n",
       " 'References',\n",
       " 'Format',\n",
       " 'SpatialCoverage',\n",
       " 'VersionID',\n",
       " 'TemporalRange',\n",
       " 'identifier_product_doi_authority',\n",
       " 'ShortName',\n",
       " 'GranuleID',\n",
       " 'ProductionDateTime',\n",
       " 'LongName',\n",
       " 'Title',\n",
       " 'SouthernmostLatitude',\n",
       " 'NorthernmostLatitude']"
      ]
     },
     "metadata": {},
     "output_type": "display_data"
    },
    {
     "data": {
      "text/plain": [
       "'-90.0'"
      ]
     },
     "metadata": {},
     "output_type": "display_data"
    }
   ],
   "source": [
    "# Find what's included in the dataset\n",
    "\n",
    "# Sample of top-level attributes -- these weren't very helpful to me\n",
    "display(nc_file.ncattrs()[:20])\n",
    "\n",
    "# How to access one of these\n",
    "display(nc_file.SouthernmostLatitude)"
   ]
  },
  {
   "cell_type": "code",
   "execution_count": 5,
   "metadata": {},
   "outputs": [
    {
     "data": {
      "text/plain": [
       "OrderedDict([('time',\n",
       "              <class 'netCDF4._netCDF4.Dimension'> (unlimited): name = 'time', size = 1),\n",
       "             ('lev',\n",
       "              <class 'netCDF4._netCDF4.Dimension'>: name = 'lev', size = 72),\n",
       "             ('lat',\n",
       "              <class 'netCDF4._netCDF4.Dimension'>: name = 'lat', size = 63),\n",
       "             ('lon',\n",
       "              <class 'netCDF4._netCDF4.Dimension'>: name = 'lon', size = 46),\n",
       "             ('bnds',\n",
       "              <class 'netCDF4._netCDF4.Dimension'>: name = 'bnds', size = 2)])"
      ]
     },
     "metadata": {},
     "output_type": "display_data"
    }
   ],
   "source": [
    "# Dimensions for each of the variables\n",
    "# This file is 3D, so for every time, we can pick:\n",
    "# - lev: z coordinate, ranging from 0 (top of atmosphere) to 71 (surface level)\n",
    "# - lat: y coordinate\n",
    "# - lon: x coordinate\n",
    "# I guess some of the variables have 2 bands, too\n",
    "display(nc_file.dimensions)"
   ]
  },
  {
   "cell_type": "code",
   "execution_count": 6,
   "metadata": {},
   "outputs": [
    {
     "data": {
      "text/plain": [
       "['CLOUD',\n",
       " 'DELP',\n",
       " 'EPV',\n",
       " 'H',\n",
       " 'O3',\n",
       " 'OMEGA',\n",
       " 'PHIS',\n",
       " 'PL',\n",
       " 'PS',\n",
       " 'QI',\n",
       " 'QL',\n",
       " 'QV',\n",
       " 'RH',\n",
       " 'SLP',\n",
       " 'T',\n",
       " 'U',\n",
       " 'V',\n",
       " 'lat',\n",
       " 'lev',\n",
       " 'lon',\n",
       " 'time',\n",
       " 'time_bnds']"
      ]
     },
     "metadata": {},
     "output_type": "display_data"
    }
   ],
   "source": [
    "# List the actual variables in this dataset\n",
    "# Note that the last few variables describe the dimensions (lat/lev/lon/time/time_bnds)\n",
    "display(list(var for var in nc_file.variables))"
   ]
  },
  {
   "cell_type": "code",
   "execution_count": 7,
   "metadata": {},
   "outputs": [
    {
     "data": {
      "text/plain": [
       "<class 'netCDF4._netCDF4.Variable'>\n",
       "float32 RH(time, lev, lat, lon)\n",
       "    standard_name: relative_humidity_after_moist\n",
       "    long_name: relative_humidity_after_moist\n",
       "    units: 1\n",
       "    _FillValue: 1000000000000000.0\n",
       "    missing_value: 1000000000000000.0\n",
       "    fmissing_value: 1000000000000000.0\n",
       "    vmax: 1000000000000000.0\n",
       "    vmin: -1000000000000000.0\n",
       "unlimited dimensions: time\n",
       "current shape = (1, 72, 63, 46)\n",
       "filling on"
      ]
     },
     "metadata": {},
     "output_type": "display_data"
    }
   ],
   "source": [
    "# Get specific info for one variable\n",
    "# This one shows that humidity is a function of time, level, lat, and lon\n",
    "# standard_name, units, and shape are also useful \n",
    "display(nc_file.variables['RH'])"
   ]
  },
  {
   "cell_type": "code",
   "execution_count": 8,
   "metadata": {},
   "outputs": [],
   "source": [
    "# Get data on useful variables\n",
    "rh = nc_file.variables['RH'][:]\n",
    "lat = nc_file.variables['lat'][:]\n",
    "lon = nc_file.variables['lon'][:]"
   ]
  },
  {
   "cell_type": "code",
   "execution_count": 9,
   "metadata": {},
   "outputs": [
    {
     "data": {
      "text/plain": [
       "masked_array(\n",
       "  data=[[0.68653816, 0.6782984 , 0.6787867 , ..., 0.75923103, 0.76933235,\n",
       "         0.76795906],\n",
       "        [0.6821131 , 0.67347664, 0.67594856, ..., 0.73979133, 0.76536506,\n",
       "         0.75767463],\n",
       "        [0.6770472 , 0.6756739 , 0.6739039 , ..., 0.7389979 , 0.7487635 ,\n",
       "         0.7455897 ],\n",
       "        ...,\n",
       "        [0.80509895, 0.8305201 , 0.8784022 , ..., 0.31071037, 0.2654299 ,\n",
       "         0.24493355],\n",
       "        [0.7636866 , 0.7845606 , 0.81965584, ..., 0.23248237, 0.20172447,\n",
       "         0.20016044],\n",
       "        [0.7078089 , 0.74571174, 0.7202448 , ..., 0.18743843, 0.1972155 ,\n",
       "         0.24537987]],\n",
       "  mask=False,\n",
       "  fill_value=1e+20,\n",
       "  dtype=float32)"
      ]
     },
     "metadata": {},
     "output_type": "display_data"
    }
   ],
   "source": [
    "# Humidity at one time and height\n",
    "# (index order is rh[time][lev][lat][lon])\n",
    "display(rh[0][71][:][:])"
   ]
  },
  {
   "cell_type": "code",
   "execution_count": 10,
   "metadata": {},
   "outputs": [
    {
     "data": {
      "text/plain": [
       "masked_array(data=[ 6.5,  7. ,  7.5,  8. ,  8.5,  9. ,  9.5, 10. , 10.5,\n",
       "                   11. , 11.5, 12. , 12.5, 13. , 13.5, 14. , 14.5, 15. ,\n",
       "                   15.5, 16. , 16.5, 17. , 17.5, 18. , 18.5, 19. , 19.5,\n",
       "                   20. , 20.5, 21. , 21.5, 22. , 22.5, 23. , 23.5, 24. ,\n",
       "                   24.5, 25. , 25.5, 26. , 26.5, 27. , 27.5, 28. , 28.5,\n",
       "                   29. , 29.5, 30. , 30.5, 31. , 31.5, 32. , 32.5, 33. ,\n",
       "                   33.5, 34. , 34.5, 35. , 35.5, 36. , 36.5, 37. , 37.5],\n",
       "             mask=False,\n",
       "       fill_value=1e+20)"
      ]
     },
     "metadata": {},
     "output_type": "display_data"
    },
    {
     "data": {
      "text/plain": [
       "masked_array(data=[65.   , 65.625, 66.25 , 66.875, 67.5  , 68.125, 68.75 ,\n",
       "                   69.375, 70.   , 70.625, 71.25 , 71.875, 72.5  , 73.125,\n",
       "                   73.75 , 74.375, 75.   , 75.625, 76.25 , 76.875, 77.5  ,\n",
       "                   78.125, 78.75 , 79.375, 80.   , 80.625, 81.25 , 81.875,\n",
       "                   82.5  , 83.125, 83.75 , 84.375, 85.   , 85.625, 86.25 ,\n",
       "                   86.875, 87.5  , 88.125, 88.75 , 89.375, 90.   , 90.625,\n",
       "                   91.25 , 91.875, 92.5  , 93.125],\n",
       "             mask=False,\n",
       "       fill_value=1e+20)"
      ]
     },
     "metadata": {},
     "output_type": "display_data"
    }
   ],
   "source": [
    "# List of latitudes and longitudes\n",
    "display(lat)\n",
    "display(lon)"
   ]
  },
  {
   "cell_type": "code",
   "execution_count": 11,
   "metadata": {},
   "outputs": [
    {
     "data": {
      "image/png": "[encoded data removed]",
      "text/plain": [
       "<Figure size 1080x720 with 2 Axes>"
      ]
     },
     "metadata": {
      "needs_background": "light"
     },
     "output_type": "display_data"
    }
   ],
   "source": [
    "# Heatmap of relative humidity\n",
    "plt.figure()\n",
    "plt.imshow(\n",
    "    rh[0][71], # Relative humidity at time 0 and level 71 (surface)\n",
    "    cmap='Blues', \n",
    "    vmin=0, # min value in plot\n",
    "    vmax=1, # max value in plot\n",
    "    origin='lower', # Put y=0 at bottom instead of top\n",
    "    extent=[65, 93.125, 6.5, 37.5] # min/max lat and long. TODO: read from lat/lon variables\n",
    ")\n",
    "plt.colorbar()\n",
    "plt.title('Relative Humidity (Jan 1, 2019)', fontsize=8)\n",
    "plt.show()"
   ]
  },
  {
   "cell_type": "code",
   "execution_count": null,
   "metadata": {},
   "outputs": [],
   "source": []
  }
 ],
 "metadata": {
  "kernelspec": {
   "display_name": "Python 3",
   "language": "python",
   "name": "python3"
  },
  "language_info": {
   "codemirror_mode": {
    "name": "ipython",
    "version": 3
   },
   "file_extension": ".py",
   "mimetype": "text/x-python",
   "name": "python",
   "nbconvert_exporter": "python",
   "pygments_lexer": "ipython3",
   "version": "3.6.9"
  }
 },
 "nbformat": 4,
 "nbformat_minor": 4
}
